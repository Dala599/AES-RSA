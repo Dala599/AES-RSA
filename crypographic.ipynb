{
 "cells": [
  {
   "cell_type": "code",
   "execution_count": 1,
   "metadata": {},
   "outputs": [],
   "source": [
    "from Crypto.Hash import SHA256\n",
    "from Crypto.PublicKey import RSA\n",
    "from Crypto.Signature import PKCS1_v1_5\n",
    "import errno # error handling "
   ]
  },
  {
   "cell_type": "code",
   "execution_count": 3,
   "metadata": {},
   "outputs": [],
   "source": [
    "message = b'i am abdallah nasr'\n",
    "\n",
    "try: \n",
    "    with open ('privkey.pem','r') as f:\n",
    "        key = RSA.import_key(f.read())\n",
    "    \n",
    "    \n",
    "except IOError as e:  \n",
    "    if e.errno != errno.ENOENT :\n",
    "        raise\n",
    "        \n",
    "    # no private key , so we will generte one \n",
    "    key = RSA.generate(4096)\n",
    "    with open ('privkey.pem','wb') as f :\n",
    "        f.write(key.export_key('PEM'))\n",
    "    with open ('pubkey.pem','wb') as f : \n",
    "        f.write(key.publickey().export_key('PEM'))\n",
    "        \n",
    "        \n",
    "hasher = SHA256.new(message)\n",
    "signer = PKCS1_v1_5.new(key)\n",
    "sigiuture = signer.sign(hasher)\n",
    "\n",
    "#print(sigiuture)\n",
    "\n"
   ]
  },
  {
   "cell_type": "code",
   "execution_count": 4,
   "metadata": {},
   "outputs": [
    {
     "name": "stdout",
     "output_type": "stream",
     "text": [
      "its worked!!\n"
     ]
    }
   ],
   "source": [
    "with open ('pubkey.pem','rb') as f:\n",
    "    #key = RSA.import_key(f.read())\n",
    "    key = RSA.import_key(f.read())\n",
    "    \n",
    "hasher = SHA256.new(message)\n",
    "virfier = PKCS1_v1_5.new(key)\n",
    "\n",
    "\n",
    "if virfier.verify(hasher,sigiuture):\n",
    "    print ('its worked!!')\n",
    "else :\n",
    "    print('its croppted')"
   ]
  },
  {
   "cell_type": "code",
   "execution_count": null,
   "metadata": {},
   "outputs": [],
   "source": []
  }
 ],
 "metadata": {
  "kernelspec": {
   "display_name": "Python 3",
   "language": "python",
   "name": "python3"
  },
  "language_info": {
   "codemirror_mode": {
    "name": "ipython",
    "version": 3
   },
   "file_extension": ".py",
   "mimetype": "text/x-python",
   "name": "python",
   "nbconvert_exporter": "python",
   "pygments_lexer": "ipython3",
   "version": "3.6.7"
  }
 },
 "nbformat": 4,
 "nbformat_minor": 2
}
