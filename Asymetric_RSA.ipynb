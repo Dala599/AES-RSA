{
 "cells": [
  {
   "cell_type": "code",
   "execution_count": 1,
   "metadata": {},
   "outputs": [],
   "source": [
    "from Crypto.PublicKey import RSA\n",
    "from Crypto.Cipher import PKCS1_OAEP "
   ]
  },
  {
   "cell_type": "code",
   "execution_count": 7,
   "metadata": {},
   "outputs": [
    {
     "name": "stdout",
     "output_type": "stream",
     "text": [
      "b'@\\xfb3\\xbfC\\xc3\\xc3x\\xe1\\t\\xbf\\x92\\t{\\xa4$\\xacE\\xf8h\\x87J\\x1c\\x11\\x1b`\\xbb\\x99i\\xe0\\x93I\\x12B\\xe5\\x1cO\\x80\\x9d\\xfb\\xa9Z}\\x0e]\\x81\\xe9q=,O\\x8c\\xff:i\\xd0\\x9a\\xa0if;\\xf1Qg\\xad<\\t\\xfe\\xe8\\x11#0\\xcc\\xc2\\xc9\\'{\\xe5|p\\xd3\\xc7\\x11\\xad&\\xb0ds2E\\x95v\\x1c\\x0c\\x86\\xfd\\x03\\x8e \\xd1\\x0f\\x17\\xc8\\x9d\\xf2\\xb1\\xaeN\\xdd\\xfd\\xdf\\x8c\\x85\\xfe\\x85|;\\x1c\\x03\\xac\"\\x88\\xf3\\x99\\x12\\xda\\x99\\xbe\\x05\\xadJuf\\xedQ}m\\xcf\\xe3\\xe5\\x1a\\x84\\xd6])\\xe2\\x0bJ\\xc7V\\xbd[\\xaa,D\\xe0\\xf2w\\xb6\\x90\\x19%\\xe1\\xac\\xba9\\x12\\xf2\\xc8L\\x0cf&lUW\\xeay\\xb7C\\x13\\xacf\\xca\\xa0\\xad\\xcbi\\xcf\\n\\xc4\\xd3~v\\x01\\xd4R\\xd7\\xd4\\xffo\\x9aF\\x8a\\xfb\\x82\\x85\\x99BJ\\xe5\\xce\\xa8\\xac\\x88&\\xd9=\\xd7\\x98J6`\\xe3\\x89\\x85\\xd6\\x1dL\\xe1w\\xe0\\xfe\\xa2\\xed\\xbf\\xfd\\rL+\\xbcPEOf\\xd9\\x86m\"\\'\\x9b\\x98\\xe4J8\\xa3\\xe8\\xfc\\xb4C\\x84ls\\xbdE\\xe0\\x87\\xa4\\xdc\\xf3&\\xb1\\x93/7\\x1a?;5\\x8b\\x95\\xbd\\x90\\x85^\\x1e\\x05\\x02\\xc4\\xf0\\xbb\\xf1\\xaf\\xb0\\xfc\\x0b\"\\xe1G\\xef\\xb3F\\xbc8\\xd59#\\x1d}\\xf9\\xe1\\xa5\\xd3\\x02x\\x86\\x93\\xc3?|\\xf5\\xa0\\x07\\xf8\\xd4\\x1a\\x1f\\x08\\x89}\\xbb\\xa1\\x10p\\xcc\\x1e\\xc2\\x92w\\x9d\\xaaj\\xa3\\x818\\x85\\x9c\\x801c\\xe1Q\\x9f\\xd0\\\\\\xc3\\x12e\\xab\\xb5| \\xa2\\xb3R\\x95V5t\\xfbP\\xdb\\x08V\\x1e\\xf5u\\xc1\\xd1\\x03\\x92\\x18\\x90\\xb6\\x10\\x17\\x12\\xdc\\xd3|\\x9e\\x15l\\xb5\\xea\\xbdN\\xe5\\xac\\r\\xa7\\xe9M\\xa5\\xe4\\x18\\xb6\\xe0?\\x1d\\xd2\\x10*0\\xbb\\x91\\xf6!\\x0b\\xf37\\xce\\xae\\xf7\\xe3\\xe7#mH\\x84\\xf6M\\xd75\\x95\\xdd\\xb2\\xbf\\xc0\\xa4y\\xa4`\\xfe\\xb9\\x00\\xc5*\\x18\\x97K`\\xb7\\xd7\\xf3\\x90}\\x17}R\\xac\\xd9S{\\xcd\\xbdb#\\x9bB\\xe9T\\xb3\\xb8\\x9f\\x8b\\xd6\\x97\\xa0\\xc2\\xedZ\\x8a\\xfe\\xca\\xf1\\x96M\\xd4\\xc6,\\xce\\xd1\\xa6_\\n\\x19\\xe0\\x9c+xf}\\x1b\\xd1\\x90 \\xde\\x06\\xa7\\x1d}'\n"
     ]
    }
   ],
   "source": [
    "message = b'this is a scret massage '\n",
    "\n",
    "\n",
    "with open ('pubkey.pem','r') as f:\n",
    "    key = RSA.import_key(f.read())\n",
    "    \n",
    "cipher = PKCS1_OAEP.new(key)\n",
    "encrypted = cipher.encrypt(message)\n",
    "\n",
    "print(encrptyed)"
   ]
  },
  {
   "cell_type": "code",
   "execution_count": 8,
   "metadata": {},
   "outputs": [
    {
     "name": "stdout",
     "output_type": "stream",
     "text": [
      "b'this is a scret massage '\n"
     ]
    }
   ],
   "source": [
    "with open ('privkey.pem' ,'rb') as f:\n",
    "    key = RSA.import_key(f.read())\n",
    "    \n",
    "cipher = PKCS1_OAEP.new(key)\n",
    "decrypted = cipher.decrypt(encrptyed)\n",
    "\n",
    "print(decrypted)"
   ]
  },
  {
   "cell_type": "code",
   "execution_count": null,
   "metadata": {},
   "outputs": [],
   "source": []
  }
 ],
 "metadata": {
  "kernelspec": {
   "display_name": "Python 3",
   "language": "python",
   "name": "python3"
  },
  "language_info": {
   "codemirror_mode": {
    "name": "ipython",
    "version": 3
   },
   "file_extension": ".py",
   "mimetype": "text/x-python",
   "name": "python",
   "nbconvert_exporter": "python",
   "pygments_lexer": "ipython3",
   "version": "3.6.7"
  }
 },
 "nbformat": 4,
 "nbformat_minor": 2
}
