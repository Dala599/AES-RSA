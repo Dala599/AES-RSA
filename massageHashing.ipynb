{
 "cells": [
  {
   "cell_type": "code",
   "execution_count": 2,
   "metadata": {},
   "outputs": [],
   "source": [
    "import hashlib \n",
    "import binascii"
   ]
  },
  {
   "cell_type": "code",
   "execution_count": 8,
   "metadata": {},
   "outputs": [
    {
     "name": "stdout",
     "output_type": "stream",
     "text": [
      "b'\\x00\\xc3<\\x18\\xdd\\x8e\\x82\\x05\\x88\\x86|\\xadtd\\x83\\xc8\\xa0i\\x7f\\xef:\\xef\\r`N\\x1cO\\xb3Z~\\xb8\\x88'\n",
      "\n",
      " 00c33c18dd8e820588867cad746483c8a0697fef3aef0d604e1c4fb35a7eb888\n"
     ]
    }
   ],
   "source": [
    "h = hashlib.new('sha256')\n",
    "h.update(b'I know jappaness')\n",
    "print (h.digest())\n",
    "print ('\\n',h.hexdigest())"
   ]
  },
  {
   "cell_type": "code",
   "execution_count": null,
   "metadata": {},
   "outputs": [],
   "source": []
  }
 ],
 "metadata": {
  "kernelspec": {
   "display_name": "Python 3",
   "language": "python",
   "name": "python3"
  },
  "language_info": {
   "codemirror_mode": {
    "name": "ipython",
    "version": 3
   },
   "file_extension": ".py",
   "mimetype": "text/x-python",
   "name": "python",
   "nbconvert_exporter": "python",
   "pygments_lexer": "ipython3",
   "version": "3.6.7"
  }
 },
 "nbformat": 4,
 "nbformat_minor": 2
}
