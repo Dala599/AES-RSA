{
 "cells": [
  {
   "cell_type": "code",
   "execution_count": 2,
   "metadata": {},
   "outputs": [],
   "source": [
    "import hashlib\n",
    "import math\n",
    "import os\n",
    "\n",
    "from Crypto.Cipher import AES"
   ]
  },
  {
   "cell_type": "code",
   "execution_count": 3,
   "metadata": {},
   "outputs": [],
   "source": [
    "IV_SIZE = 16 # but in real 128\n",
    "KEY_SIZE = 32 # 256\n",
    "SALT_SIZE = 16 \n",
    "\n",
    "clearText = b\"helllo AES\"\n",
    "password = b\"this is a fucken pass \""
   ]
  },
  {
   "cell_type": "code",
   "execution_count": 7,
   "metadata": {},
   "outputs": [],
   "source": [
    "#encryption\n",
    "\n",
    "salt = os.urandom(SALT_SIZE)\n",
    "\n",
    "derived = hashlib.pbkdf2_hmac('sha256',password, salt , 100000, dklen = IV_SIZE + KEY_SIZE)\n",
    "\n",
    "iv = derived[0:IV_SIZE]\n",
    "key = derived[IV_SIZE:]\n",
    "\n",
    "encrypted = salt + AES.new(key, AES.MODE_CFB, iv ).encrypt(clearText)\n"
   ]
  },
  {
   "cell_type": "code",
   "execution_count": 8,
   "metadata": {},
   "outputs": [
    {
     "name": "stdout",
     "output_type": "stream",
     "text": [
      "b'\\x12i\\xda\\x00$\\xd86D2NB\\xc9\\xc7MAV4\\x03\\xe3\\x13\\xb04\\x04\\xd3\\xd8\\x03'\n"
     ]
    }
   ],
   "source": [
    "print(encrypted)"
   ]
  },
  {
   "cell_type": "code",
   "execution_count": 10,
   "metadata": {},
   "outputs": [],
   "source": [
    "#decryption \n",
    "\n",
    "salt = encrypted[0:SALT_SIZE]\n",
    "\n",
    "derived = hashlib.pbkdf2_hmac('sha256', password, salt, 100000, dklen = IV_SIZE+KEY_SIZE)\n",
    "\n",
    "iv = derived[0:IV_SIZE]\n",
    "key = derived [IV_SIZE:]\n",
    "\n",
    "clearText = AES.new(key , AES.MODE_CFB , iv).decrypt(encrypted[SALT_SIZE:])\n",
    "\n"
   ]
  },
  {
   "cell_type": "code",
   "execution_count": 11,
   "metadata": {},
   "outputs": [
    {
     "name": "stdout",
     "output_type": "stream",
     "text": [
      "b'helllo AES'\n"
     ]
    }
   ],
   "source": [
    "print(clearText)"
   ]
  },
  {
   "cell_type": "code",
   "execution_count": null,
   "metadata": {},
   "outputs": [],
   "source": []
  }
 ],
 "metadata": {
  "kernelspec": {
   "display_name": "Python 3",
   "language": "python",
   "name": "python3"
  },
  "language_info": {
   "codemirror_mode": {
    "name": "ipython",
    "version": 3
   },
   "file_extension": ".py",
   "mimetype": "text/x-python",
   "name": "python",
   "nbconvert_exporter": "python",
   "pygments_lexer": "ipython3",
   "version": "3.6.7"
  }
 },
 "nbformat": 4,
 "nbformat_minor": 2
}
