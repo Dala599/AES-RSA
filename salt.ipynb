{
 "cells": [
  {
   "cell_type": "code",
   "execution_count": 7,
   "metadata": {},
   "outputs": [],
   "source": [
    "import hashlib\n",
    "import os\n",
    "\n",
    "import binascii  # to print the hex code"
   ]
  },
  {
   "cell_type": "code",
   "execution_count": 3,
   "metadata": {},
   "outputs": [
    {
     "name": "stdout",
     "output_type": "stream",
     "text": [
      "{'sha3_256', 'md4', 'blake2s', 'sha3_512', 'ripemd160', 'dsaEncryption', 'ecdsa-with-SHA1', 'blake2b', 'shake_256', 'dsaWithSHA', 'sha3_384', 'md5', 'sha384', 'DSA-SHA', 'MD5', 'MD4', 'sha', 'SHA256', 'shake_128', 'DSA', 'sha1', 'sha256', 'SHA', 'sha224', 'whirlpool', 'SHA512', 'SHA1', 'sha512', 'SHA384', 'sha3_224', 'RIPEMD160', 'SHA224'}\n"
     ]
    }
   ],
   "source": [
    "print(hashlib.algorithms_available)"
   ]
  },
  {
   "cell_type": "code",
   "execution_count": 4,
   "metadata": {},
   "outputs": [
    {
     "name": "stdout",
     "output_type": "stream",
     "text": [
      "{'shake_128', 'sha224', 'blake2b', 'sha3_256', 'shake_256', 'sha512', 'sha3_224', 'blake2s', 'sha3_384', 'sha1', 'sha3_512', 'md5', 'sha256', 'sha384'}\n"
     ]
    }
   ],
   "source": [
    "print(hashlib.algorithms_guaranteed)"
   ]
  },
  {
   "cell_type": "code",
   "execution_count": 5,
   "metadata": {},
   "outputs": [],
   "source": [
    "salt = os.urandom(16)\n",
    "hash = hashlib.pbkdf2_hmac('sha256',b'password',salt,100000)"
   ]
  },
  {
   "cell_type": "code",
   "execution_count": 6,
   "metadata": {},
   "outputs": [
    {
     "name": "stdout",
     "output_type": "stream",
     "text": [
      "b'\\x83\\x17r\\x15\\xbd2WaU\\x9d\\nw\\xa5\\xa8\\xa0\\xa4\\xc5\\x8cD~{\\xc5\\xc5Xzg\\x82f\\x1a\\xbf\\xaa\\x03'\n"
     ]
    }
   ],
   "source": [
    "print(hash)"
   ]
  },
  {
   "cell_type": "code",
   "execution_count": 8,
   "metadata": {},
   "outputs": [
    {
     "name": "stdout",
     "output_type": "stream",
     "text": [
      "b'83177215bd325761559d0a77a5a8a0a4c58c447e7bc5c5587a6782661abfaa03'\n"
     ]
    }
   ],
   "source": [
    "Hexhash = binascii.hexlify(hash)\n",
    "print(Hexhash)"
   ]
  },
  {
   "cell_type": "code",
   "execution_count": null,
   "metadata": {},
   "outputs": [],
   "source": []
  }
 ],
 "metadata": {
  "kernelspec": {
   "display_name": "Python 3",
   "language": "python",
   "name": "python3"
  },
  "language_info": {
   "codemirror_mode": {
    "name": "ipython",
    "version": 3
   },
   "file_extension": ".py",
   "mimetype": "text/x-python",
   "name": "python",
   "nbconvert_exporter": "python",
   "pygments_lexer": "ipython3",
   "version": "3.6.7"
  }
 },
 "nbformat": 4,
 "nbformat_minor": 2
}
